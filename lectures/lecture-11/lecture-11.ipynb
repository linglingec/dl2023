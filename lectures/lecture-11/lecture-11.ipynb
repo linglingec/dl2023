{
 "cells": [
  {
   "cell_type": "markdown",
   "metadata": {
    "slideshow": {
     "slide_type": "slide"
    }
   },
   "source": [
    "# Lecture 11:  One-shot/Zero-shot/Few-shot learning"
   ]
  },
  {
   "cell_type": "markdown",
   "metadata": {
    "slideshow": {
     "slide_type": "slide"
    }
   },
   "source": [
    "## Previous lecture: General tricks for efficient training:\n",
    "- What is contrastive learning\n",
    "- Popular losses\n",
    "- SimCLR\n",
    "- MoCo\n",
    "- ByOL\n",
    "- Barlow Twins\n",
    "- VicReg"
   ]
  },
  {
   "cell_type": "markdown",
   "metadata": {
    "slideshow": {
     "slide_type": "slide"
    }
   },
   "source": [
    "## Current lecture: One-shot/Zero-shot/Few-shot learning\n",
    "- What is few-shot learning\n",
    "- Meta learning \n",
    "- Main models and approaches (ProtoNets, SiameseNetworks, MAML)"
   ]
  },
  {
   "cell_type": "markdown",
   "metadata": {
    "slideshow": {
     "slide_type": "slide"
    }
   },
   "source": [
    "## What is few-shot learning\n",
    "\n",
    "The few-shot learning (FSL) covers the case when we have very few samples for each class in the dataset.\n",
    "\n",
    "\n",
    "When we’re talking about FSL, we usually mean $N$-way-$K$-Shot-classification.\n",
    "\n",
    "$N$ stands for the number of classes, and $K$ for the number of samples from each class to train on.\n",
    "\n"
   ]
  },
  {
   "cell_type": "markdown",
   "metadata": {
    "slideshow": {
     "slide_type": "slide"
    }
   },
   "source": [
    "## Example applications\n",
    "\n",
    "There are many cases:\n",
    "\n",
    "- Face detection / identification\n",
    "- Drug toxicity prediction\n",
    "- Medical diagnosis: Few-shot learning can be used to diagnose medical conditions with limited data. The model can learn to recognize rare diseases with only a few examples\n",
    "- Robotics"
   ]
  },
  {
   "cell_type": "markdown",
   "metadata": {
    "slideshow": {
     "slide_type": "slide"
    }
   },
   "source": [
    "## How to do few-shot learning\n",
    "\n",
    "One can actually train a supervised learning classifier with **enormous amount of classes**.\n",
    "\n",
    "I.e. a very strong baseline now is just to make a softmax loss for all classes in the training set.\n",
    "\n",
    "The disadvantage is that we need quite a lot of memory for the linear layer.\n",
    "\n",
    "Besides that, most of the few-shot learning approaches fall into the **meta-learning area**."
   ]
  },
  {
   "cell_type": "markdown",
   "metadata": {
    "slideshow": {
     "slide_type": "slide"
    }
   },
   "source": [
    "## What is meta-learning?\n",
    "\n",
    "Meta-learning (also known as learning to learn) learns sequentially:\n",
    "\n",
    "Given a series of tasks, it improves the quality of predictions on new (unseen) tasks.\n",
    "\n",
    "The Meta-learning framework involves training an algorithm using a series of tasks, where each task is **a 3-way-2-shot** classification problem consisting of a support set with three classes and two examples of each. \n",
    "\n",
    "During training, the cost function evaluates the algorithm's performance on the query set for each task, given its respective support set. \n",
    "\n",
    "At test time, a different set of tasks is used to assess the algorithm's performance on the query set, given its support set. \n",
    "\n",
    "There is no overlap between the classes in the training tasks **{cat, lamb, pig}**, **{dog, shark, lion}**, \n",
    "\n",
    "and those in the test task **{duck, dolphin, hen}**. \n",
    "\n",
    "As a result, the algorithm must learn to classify image classes generally rather than any particular set.\n",
    "\n",
    "<img src='T2_1.webp'>"
   ]
  },
  {
   "cell_type": "markdown",
   "metadata": {
    "slideshow": {
     "slide_type": "slide"
    }
   },
   "source": [
    "## Support set and query set\n",
    "\n",
    "Here, each task mimics the few-shot scenario, so for N-way-K-shot classification, each task includes $N$ classes with \n",
    " $K$ examples of each.\n",
    "\n",
    "The task is specified by the **support set** (used for training) and **query set** (used for evaluation)."
   ]
  },
  {
   "cell_type": "markdown",
   "metadata": {
    "slideshow": {
     "slide_type": "slide"
    }
   },
   "source": [
    "## Meta-learning steps\n",
    "\n",
    "At each step of the meta-learning, we update the model parameters based on a randomly selected training task.\n",
    "\n",
    "The loss function measures some accuracy on the query set, based on the knowledge gained from the support set.\n",
    "\n",
    "To evaluate the few-shot performance, we have to look at **completely unseen tasks**."
   ]
  },
  {
   "cell_type": "markdown",
   "metadata": {
    "slideshow": {
     "slide_type": "slide"
    }
   },
   "source": [
    "## Main approaches to meta-learning\n",
    "\n",
    "- **Learning embeddings**: We learn embeddings that tend to separate classes (note that this is similar to self-supervised learning in some sense, the difference is that we know few labels). Examples: Protonetworks, Siamese networks, Triplet networks, matching networks \n",
    "- **Prior knowledge about learning**: We use prior knowledge to constrain the algorithm to choose parameters: MAML approach\n",
    "- **Prior knowledge about data**: We use prior knowledge about the data: learn generative models from the data, generate new sample to augment"
   ]
  },
  {
   "cell_type": "markdown",
   "metadata": {
    "slideshow": {
     "slide_type": "slide"
    }
   },
   "source": [
    "## Pairwise comparisons\n",
    "\n",
    "We can use ideas of self-supervised learning (strictly speaking, self-supervised learning ideas were motivated from few-shot learning, but in the course we are giving it vice-a-versa).\n",
    "\n",
    "We can learn to distinguish between pairs (pairwise comparators) or we can learn to distringuish between many samples (multi-class comparators).\n",
    "\n",
    "Two  standard approaches with pairwise comparisons include:\n",
    "- [Siamese networks, 2015](https://www.cs.cmu.edu/~rsalakhu/papers/oneshot1.pdf)\n",
    "- [Triplet networks, 2016](https://arxiv.org/abs/1412.6622)"
   ]
  },
  {
   "cell_type": "markdown",
   "metadata": {
    "slideshow": {
     "slide_type": "slide"
    }
   },
   "source": [
    "## Siamese network\n",
    "\n",
    "In Siamese network, we take two shared networks. Given $x_a$ and $x_b$ they will output the probability that \n",
    "\n",
    "$$\\mathrm{Pr}(y_a = y_b)$$ using just binary cross-entropy loss (i.e. the output is passed through a sigmoid).\n",
    "\n",
    "We randomly pick a pair.\n",
    "\n",
    "This is not formally a N-way-K-shot task, but similar and can be adapted.\n",
    "\n",
    "How we can adapt to such task?"
   ]
  },
  {
   "cell_type": "markdown",
   "metadata": {
    "slideshow": {
     "slide_type": "slide"
    }
   },
   "source": [
    "## Triplet network\n",
    "\n",
    "In a triplet network, we (again) work with triplets $\\{\\mathbf{x}_{+},\\mathbf{x}_{a},\\mathbf{x}_{-}\\}$, where the positive and anchor samples are from the same class, whereas the negative sample is from a different class.\n",
    "\n",
    "The learning loss is the **triplet loss** with tries to push positive from negative up to a certain margin (look at the previous lecture)."
   ]
  },
  {
   "cell_type": "markdown",
   "metadata": {
    "slideshow": {
     "slide_type": "slide"
    }
   },
   "source": [
    "## Multi-class comparators\n",
    "\n",
    "We can adapt pairwise comparators to the N-way-K-shot setting by assigning the class of the example of the query set to the maximally similar example in the support set.\n",
    "\n",
    "Denote by $x_{nk}$ the support example number $k$ from with $n$-th class, and $y_{nk}$ the corresponding label.\n",
    "\n",
    "Then, we can have:\n",
    "\n",
    "- Matching Networks\n",
    "- Prototypical Networks\n",
    "- Relation Networks"
   ]
  },
  {
   "cell_type": "markdown",
   "metadata": {
    "slideshow": {
     "slide_type": "slide"
    }
   },
   "source": [
    "## Matching networks\n",
    "\n",
    "Matching networks [Vinyals et al. 2016](https://arxiv.org/abs/1606.04080) predict the one-hot encoded query-set label \n",
    " as a weighted sum of all of the one-hot encoded support-set labels  $\\{\\mathbf{y}_{nk}\\}_{n,k=1}^{NK}$.\n",
    " \n",
    " The weight is based on computed similarity $a[\\hat{\\mathbf{x}},\\mathbf{x}_{nk}]$ between the query $\\hat{x}$ and  all the training data $\\{\\mathbf{x}_{nk}\\}_{n,k=1}^{N,K}$ \n",
    " \\begin{equation}    \\hat{\\mathbf{y}} = \\sum_{n=1}^{N}\\sum_{k=1}^{K} a[\\mathbf{x}_{nk},\\hat{\\mathbf{x}}]\\mathbf{y}_{nk} \\end{equation}\n",
    " \n",
    " \n",
    " where the similarities have been constrained to be positive and sum to one. **Motivated by attention mechanism**!\n",
    "  \n",
    " To compute the similarity $a[\\mathbf{x}_{nk},\\hat{\\mathbf{x}}]$ we pass $\\mathbf{x}_{nk}$ through a network $f$, then $\\hat{\\mathbf{x}}$ through another network $g$, \n",
    " \n",
    " then compute cosine similarity\n",
    " \n",
    " \\begin{equation}     d[\\mathbf{x}_{nk}, \\hat{\\mathbf{x}}] = \\frac{\\mbox{ f}[\\mathbf{x}_{nk}]^{T}\\mbox{ g}[\\hat{\\mathbf{x}}]} {||\\mbox{ f}[\\mathbf{x}_{nk}]||\\cdot||\\mbox{ g}[\\hat{\\mathbf{x}}]||}, \\end{equation}\n",
    "\n",
    "and normalize to probability as \n",
    "\n",
    "\\begin{equation}    a[\\hat{\\mathbf{x}}_{nk},\\mathbf{x}] = \\frac{\\exp[d[\\mathbf{x}_{nk},\\hat{\\mathbf{x}}]]}{\\sum_{n=1}^{N}\\sum_{k=1}^{K}\\exp[d[\\mathbf{x}_{nk},\\hat{\\mathbf{x}}]]}. \\end{equation}\n",
    "\n",
    "The loss function is the entropy between ground truth and predicted labels.\n"
   ]
  },
  {
   "cell_type": "markdown",
   "metadata": {
    "slideshow": {
     "slide_type": "slide"
    }
   },
   "source": [
    "## Problems with matching networks\n",
    "\n",
    "The main problem with matching network is when we have **class imbalance** (i.e., we depart from the N-way-K-shot scenario). \n",
    "\n",
    "The algorithm is not robust to this case."
   ]
  },
  {
   "cell_type": "markdown",
   "metadata": {
    "slideshow": {
     "slide_type": "slide"
    }
   },
   "source": [
    "## Prototypical networks\n",
    "Prototypical networks [Snell, 2017](https://arxiv.org/abs/1703.05175)  are more robust to class imbalance and still used nowdays.\n",
    "\n",
    "In this algorithm, the embeddings, corresponding to each class, are averaged to create a **prototype**.\n",
    "\n",
    "The classification is done by selection of the closest prototype. They found that **euclidean distance outperforms cosine distance**.\n",
    "\n",
    "$\\displaystyle p_{\\varphi}(y=k|x) = \\frac{\\exp(-d(f_{\\varphi}(x), c_k))}{\\sum_{k'=0}^{P-1}\\exp(-d(f_{\\varphi}(x), c_{k'}))}$, and we maximize the probability of the true class\n",
    "\n",
    "<img src='T2_4.webp'>"
   ]
  },
  {
   "cell_type": "markdown",
   "metadata": {
    "slideshow": {
     "slide_type": "slide"
    }
   },
   "source": [
    "## Relation networks\n",
    "\n",
    "Relation networks\n",
    "[Santoro 2016](http://proceedings.mlr.press/v48/santoro16.pdf)  use the **external memory idea** (from the so-called relation module).\n",
    "\n",
    "It has:\n",
    "- Embedding\n",
    "- Controller (typically, an LSTM to proces a sequence)\n",
    "- An external memory module\n",
    "\n",
    "At each step, the **controller** given the input $x_t$ (the images are shown sequentially to a module) and produces a key $k_t = f(x_t)$ which is either **stored in a row of a matrix $M_t$** or used to retrieve a particular memory from $M_t$ based on the similarity:\n",
    "\n",
    "$$\n",
    "K(k_t, M_t(i)) = \\frac{k_t \\cdot M_t(i)}{\\Vert k_t \\Vert \\Vert M_t(i) \\Vert}.\n",
    "$$\n",
    "The similarities are transformed into weights, the controller returns a weighted sum of $M_t(i)$.\n",
    "\n",
    "A sophisticated rule for the update has been derived based on the **number of usages**.\n",
    "\n",
    "]"
   ]
  },
  {
   "cell_type": "markdown",
   "metadata": {
    "slideshow": {
     "slide_type": "slide"
    }
   },
   "source": [
    "## Comparison of multiclass comparators\n",
    "\n",
    "<img src='T2_5.webp'>"
   ]
  },
  {
   "cell_type": "markdown",
   "metadata": {
    "slideshow": {
     "slide_type": "slide"
    }
   },
   "source": [
    "## Model-agnostic meta-learning\n",
    "\n",
    "[Model-agnostic meta-learning](http://proceedings.mlr.press/v70/finn17a/finn17a.pdf)\n",
    "\n",
    "Takes the approach for general training in the meta-learning scenario: we have a sequence of tasks $\\mathcal{T}_i$ and the model with parameters $\\theta$.\n",
    "\n",
    "The meta-objective to minimize in MAML is:\n",
    "\n",
    "$\\min_{\\theta} \\sum_{T_i \\sim p(T)} L(T_i, f_{\\theta_i}')$\n",
    "\n",
    "where:\n",
    "- $T_i$ is a task sampled from the distribution $p(T)$\n",
    "- $L(T_i, f_{\\theta_i}')$ is the loss on task $T_i$ after one or more gradient updates using the updated parameters $\\theta_i' = \\theta - \\alpha \\nabla_{\\theta} L(T_i, f_{\\theta})$\n",
    "\n",
    "For optimization, we need to compute high-order gradients?"
   ]
  },
  {
   "cell_type": "markdown",
   "metadata": {
    "slideshow": {
     "slide_type": "slide"
    }
   },
   "source": [
    "## How to train you MAML\n",
    "\n",
    "[How to train your MAML paper](https://arxiv.org/abs/1810.09502) improves working with MAML. The main reason is that the convergence of MAML training can be quite slow and erratic.\n",
    "\n",
    "Issues: \n",
    "\n",
    "1. Slow convergence\n",
    "2. Second-order derivatives cost\n",
    "3. Problems with Batch Normalization\n",
    "\n",
    "<img src='MAML++.png'>\n",
    "\n"
   ]
  },
  {
   "cell_type": "markdown",
   "metadata": {
    "slideshow": {
     "slide_type": "slide"
    }
   },
   "source": [
    "## MAML++\n",
    "\n",
    "In MAML++ the update of the parameters is done after several gradients steps for a single task is done.\n",
    "\n",
    "There are other tricks (engineering) that improve generalization\n",
    "\n",
    "This improves generalization error on several datasets."
   ]
  },
  {
   "cell_type": "markdown",
   "metadata": {
    "slideshow": {
     "slide_type": "slide"
    }
   },
   "source": [
    "## Reptile\n",
    "\n",
    "The [paper](https://arxiv.org/pdf/1803.02999.pdf) proposes Reptile algorithm as an alternative to MAML.\n",
    "\n",
    "Input: Learning rate $\\eta$, number of steps $k$, set of tasks $\\mathcal{T}$, initial parameters $\\phi$\n",
    "\n",
    "Output: Updated parameters $\\varphi$\n",
    "\n",
    "1. for $iteration = 1, 2, ...$ do\n",
    "2. &emsp; Sample task $\\tau \\in \\mathcal{T}$, corresponding to loss $L_{\\tau}$ on weight vectors $\\phi$\n",
    "3. &emsp; Compute $\\tilde{\\phi} = U_k^{\\tau}(\\phi)$, denoting $k$ steps of SGD or Adam\n",
    "4. &emsp; Update $\\phi \\gets \\varphi + \\eta(\\tilde{\\phi} - \\phi)$\n",
    "5. **end for**\n",
    "\n",
    "where $U_k^{\\tau}(\\phi)$ denotes $k$ steps of SGD or Adam on task $\\tau$ starting from initial parameters $\\phi$."
   ]
  },
  {
   "cell_type": "markdown",
   "metadata": {
    "slideshow": {
     "slide_type": "slide"
    }
   },
   "source": [
    "## TADAM\n",
    "Another influencial paper is \n",
    "[TADAM: Task dependent adaptive metric for improved few-shot learning](https://proceedings.neurips.cc/paper/2018/hash/66808e327dc79d135ba18e051673d906-Abstract.html)\n",
    "\n",
    "Contributions:\n",
    "\n",
    "- Introducing temperature into softmax scaling of prototype networks\n",
    "-  Use the mean of the class prototypes as the task representation and put them into **conditional batch normalization**.\n",
    "\n",
    "<img src='tadam.png'>"
   ]
  },
  {
   "cell_type": "markdown",
   "metadata": {
    "slideshow": {
     "slide_type": "slide"
    }
   },
   "source": [
    "## Simple baseline for few-shot classification\n",
    "\n",
    "[A BASELINE FOR FEW-SHOT\n",
    "IMAGE CLASSIFICATION](https://arxiv.org/pdf/1909.02729.pdf) proposes a very simple baseline for few-shot classification which is often difficult to beat in terms of generalization accuracy in practice.\n",
    "\n",
    "It also critizes the evaluation protocol: people use different training sets, different architectures, making it difficult to find the actual reason for the accuracy improvement. \n",
    "\n",
    "Baseline works as follows:\n",
    "\n",
    "- We pretrain using cross-entropy loss in the supervised way with softmax (main challenge: very large softmax layer).\n",
    "\n",
    "How to modify for new (unseen) classes?\n"
   ]
  },
  {
   "cell_type": "markdown",
   "metadata": {
    "slideshow": {
     "slide_type": "slide"
    }
   },
   "source": [
    "## Reptile\n",
    "\n",
    "The [paper](https://arxiv.org/pdf/1803.02999.pdf) propose a Reptile algorithm as an alternative to MAML"
   ]
  },
  {
   "cell_type": "markdown",
   "metadata": {
    "slideshow": {
     "slide_type": "slide"
    }
   },
   "source": [
    "## Simple baseline: unseen classes\n",
    "\n",
    "If we get a new class with several examples, we can process it with the **backbone network** and then compute the **prototypes** by averaging.\n",
    "\n",
    "<img src='baseline.png'>"
   ]
  },
  {
   "cell_type": "markdown",
   "metadata": {
    "slideshow": {
     "slide_type": "slide"
    }
   },
   "source": [
    "## Datasets\n",
    "\n",
    "The methods for few-shot learning are typically tested on \n",
    "- Omniglot (analogue of MNIST)\n",
    "- MiniImageNet (subclass of ImageNet with 100 classes with 600 examples each)\n",
    "- Caltech-UCSD Birds"
   ]
  },
  {
   "cell_type": "markdown",
   "metadata": {
    "slideshow": {
     "slide_type": "slide"
    }
   },
   "source": [
    "## Current State-of-the art (SOTA)\n",
    "\n",
    "The current SOTA for 5-way Miniimagenet can be found [here](https://paperswithcode.com/sota/few-shot-image-classification-on-mini-3)"
   ]
  },
  {
   "cell_type": "markdown",
   "metadata": {
    "slideshow": {
     "slide_type": "slide"
    }
   },
   "source": [
    "## Current (as of April 18, 2023) record\n",
    "\n",
    "Current record is described in the paper [Pushing the Limits of Simple Pipelines for Few-Shot Learning:\n",
    "External Data and Fine-Tuning Make a Difference](https://arxiv.org/pdf/2204.07305v1.pdf).\n",
    "\n",
    "<img src='pmf.png'>"
   ]
  },
  {
   "cell_type": "markdown",
   "metadata": {
    "slideshow": {
     "slide_type": "slide"
    }
   },
   "source": [
    "## P > M > F pipeline\n",
    "\n",
    "1. Pretrain on large supervised tasks\n",
    "2. Meta-learning using protonet \n",
    "3. (Interesting idea): fine-tuning with random augmentation on the test task (actually helps!)"
   ]
  },
  {
   "cell_type": "markdown",
   "metadata": {
    "slideshow": {
     "slide_type": "slide"
    }
   },
   "source": [
    "## Few-shot learning in NLP\n",
    "\n",
    "We can also extend the problem statement of few-shot learning (or meta-learning) to the NLP domain.\n",
    "\n",
    "Large language models do have very interesting properties!"
   ]
  },
  {
   "cell_type": "markdown",
   "metadata": {
    "slideshow": {
     "slide_type": "slide"
    }
   },
   "source": [
    "## Language models are few-shot learners\n",
    "\n",
    "[GPT-3 paper](https://proceedings.neurips.cc/paper/2020/hash/1457c0d6bfcb4967418bfb8ac142f64a-Abstract.html) empirically shows that GPT-3 models work well as **few-shot learners**. \n",
    "\n",
    "The idea is that we can use a pretrained GPT model by putting some (context) examples at the top.\n",
    "\n",
    "<img src='gpt-few.webp'>"
   ]
  },
  {
   "cell_type": "markdown",
   "metadata": {
    "slideshow": {
     "slide_type": "slide"
    }
   },
   "source": [
    "## Does it really learn new concepts? \n",
    "\n",
    "Citation from the paper: \n",
    "\n",
    ">In the context of language models this has sometimes been called “zero-shot transfer”, but this term is potentially ambiguous: the method is “zero-shot” in the sense that no gradient updates are performed, but it often involves providing inference-time demonstrations to the model, so is not truly learning from zero examples. To avoid this confusion, we use the term “meta-learning” to capture the inner-loop / outer-loop structure of the general method, and the term “in context-learning” to refer to the inner loop of meta-learning. We further specialize the description to “zero-shot”, “one-shot”, or “few-shot” depending on how many demonstrations are provided at inference time. These terms are intended to remain agnostic on the question of whether the model learns new tasks from scratch at inference time or simply recognizes patterns seen during training – this is an important issue which we discuss later in the paper, but “meta-learning” is intended to encompass both possibilities, and simply describes the inner-outer loop structure<"
   ]
  },
  {
   "cell_type": "markdown",
   "metadata": {
    "slideshow": {
     "slide_type": "slide"
    }
   },
   "source": [
    "## Zero-shot learning\n",
    "\n",
    "\n",
    "\n",
    "In Zero-Shot Learning, the data consists of the following:\n",
    "\n",
    "- **Seen Classes:** These are the data classes that have been used to train the deep learning model.\n",
    "- **Unseen Classes:** These are the data classes on which the existing deep model needs to generalize. Data from these classes were not used during training.\n",
    "- **Auxiliary Information:** Since no labeled instances belonging to the unseen classes are available, some auxiliary information is necessary to solve the Zero-Shot Learning problem. Such auxiliary information should contain information about all of the unseen classes, which can be descriptions, semantic information, or word embeddings.\n",
    "\n",
    "\n",
    "In Zero-shot learning, we have **description of the classes** given.\n",
    "\n",
    "Not too many agreed benchmarks for it.\n",
    "\n",
    "Classical tasks include **image tagging**.\n",
    "\n",
    "Now we can use **CLIP models** for it."
   ]
  },
  {
   "cell_type": "markdown",
   "metadata": {
    "slideshow": {
     "slide_type": "slide"
    }
   },
   "source": [
    "\n",
    "## Summary\n",
    "\n",
    "- What is few-shot learning\n",
    "- Meta learning \n",
    "- Main models and approaches (ProtoNets, SiameseNetworks, MAML)"
   ]
  },
  {
   "cell_type": "markdown",
   "metadata": {
    "slideshow": {
     "slide_type": "slide"
    }
   },
   "source": [
    "## Next lecture: Adversarial attacks, adversarial training, robustness\n",
    "\n",
    "- Adversarial attacks\n",
    "- Adversarial training\n",
    "- Robustness of DL models (using randomized smoothing)"
   ]
  }
 ],
 "metadata": {
  "anaconda-cloud": {},
  "celltoolbar": "Слайд-шоу",
  "kernelspec": {
   "display_name": "Python 3 (ipykernel)",
   "language": "python",
   "name": "python3"
  },
  "language_info": {
   "codemirror_mode": {
    "name": "ipython",
    "version": 3
   },
   "file_extension": ".py",
   "mimetype": "text/x-python",
   "name": "python",
   "nbconvert_exporter": "python",
   "pygments_lexer": "ipython3",
   "version": "3.11.0"
  },
  "nav_menu": {},
  "rise": {
   "scroll": true,
   "theme": "sky",
   "transition": "zoom"
  },
  "toc": {
   "navigate_menu": true,
   "number_sections": false,
   "sideBar": true,
   "threshold": 6,
   "toc_cell": false,
   "toc_section_display": "block",
   "toc_window_display": false
  }
 },
 "nbformat": 4,
 "nbformat_minor": 1
}
