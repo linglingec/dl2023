{
 "cells": [
  {
   "cell_type": "markdown",
   "metadata": {
    "slideshow": {
     "slide_type": "slide"
    }
   },
   "source": [
    "# Lecture 16:  ICLR conference 2013 highlights"
   ]
  },
  {
   "cell_type": "markdown",
   "metadata": {
    "slideshow": {
     "slide_type": "slide"
    }
   },
   "source": [
    "## What is ICLR\n",
    "\n",
    "ICLR -- International Conference on Learning Representations, one of the most important A* conferences.\n",
    "\n",
    "Started in 2013.\n",
    "\n",
    "**Numbers of 2023:** 4,966 total submissions, 1574 accepted (32%).\n",
    "\n",
    "\n",
    "Statistics: https://guoqiangwei.xyz/iclr2023_stats/iclr2023_submissions.html\n",
    "\n"
   ]
  },
  {
   "cell_type": "markdown",
   "metadata": {
    "slideshow": {
     "slide_type": "slide"
    }
   },
   "source": [
    "## Submission\n",
    "\n",
    "**Paper submission deadline:** 21 September 2022.\n",
    "\n",
    "**Reviews released:** 5 November 2022\n",
    "\n",
    "**Acceptance notification:** 21 January 2023\n",
    "\n",
    "Each paper receives at least 3 reviews, then Area Chair writes 'meta-review', Senior Area Chair confirms it and finally --- Program Chairs release the decision."
   ]
  },
  {
   "cell_type": "markdown",
   "metadata": {
    "slideshow": {
     "slide_type": "slide"
    }
   },
   "source": [
    "## Venue\n",
    "\n",
    "First time in Africa. Should have been in **Addis-Abbaba** in 2020, got cancelled.\n",
    "\n",
    "Now it was in Kigali, Rwanda.\n",
    "\n",
    "First offline ICLR conference since pandemic!\n",
    "\n",
    "The location was a modern convention center.\n",
    "\n"
   ]
  },
  {
   "cell_type": "markdown",
   "metadata": {
    "slideshow": {
     "slide_type": "slide"
    }
   },
   "source": [
    "## How things work\n",
    "\n",
    "It is full-week intensive work.\n",
    "\n",
    "There are talks, but most interesting (besides networking) are **poster sessions**.\n",
    "<div style=\"display: flex\">\n",
    "    <div style=\"flex: 1; margin-top:20px; width: 100%\">  \n",
    "<img src='ivan-poster.jpg'>\n",
    "    </div>\n",
    "    <div style=\"flex: 1; margin-top:20px \">\n",
    "        <img src=\"gleb-poster.jpg\" width=\"80%\">\n",
    "    </div>\n",
    "</div>\n",
    "\n",
    "\n",
    "\n"
   ]
  },
  {
   "cell_type": "markdown",
   "metadata": {
    "slideshow": {
     "slide_type": "slide"
    }
   },
   "source": [
    "## Invited talk\n",
    "\n",
    "An interesting invited talk by [Sofio Crespo](https://sofiacrespo.com/)\n",
    "\n",
    "on bio-inspired art.\n",
    "\n",
    "Funny quote:\n",
    "\n",
    "<img src='mid-ai.jpg'>\n"
   ]
  },
  {
   "cell_type": "markdown",
   "metadata": {
    "slideshow": {
     "slide_type": "slide"
    }
   },
   "source": [
    "## Interesting (to me) posters\n",
    "\n",
    "Summarization programs\n",
    "\n",
    "<img src='summarization-programs.jpg'>"
   ]
  },
  {
   "cell_type": "markdown",
   "metadata": {
    "slideshow": {
     "slide_type": "slide"
    }
   },
   "source": [
    "## Convolutional neural operators\n",
    "\n",
    "<img src='cno.jpg'>"
   ]
  },
  {
   "cell_type": "markdown",
   "metadata": {
    "slideshow": {
     "slide_type": "slide"
    }
   },
   "source": [
    "## S5\n",
    "\n",
    "SSM models are quite popular:\n",
    "\n",
    "<img src='s5.jpg'>"
   ]
  },
  {
   "cell_type": "markdown",
   "metadata": {
    "slideshow": {
     "slide_type": "slide"
    }
   },
   "source": [
    "## Some paper are quite strange\n",
    "\n",
    "<img src='ma-bert.jpg'>"
   ]
  },
  {
   "cell_type": "markdown",
   "metadata": {
    "slideshow": {
     "slide_type": "slide"
    }
   },
   "source": [
    "## A little bit of work on certification and robustness (but not much)\n",
    "<img src='cert.jpg'>"
   ]
  },
  {
   "cell_type": "markdown",
   "metadata": {
    "slideshow": {
     "slide_type": "slide"
    }
   },
   "source": [
    "## Quite a few papers on drug design\n",
    "\n",
    "<img src='drug1.jpg'>"
   ]
  },
  {
   "cell_type": "markdown",
   "metadata": {
    "slideshow": {
     "slide_type": "slide"
    }
   },
   "source": [
    "## Absolute gem: designing matrix floating point units \n",
    "\n",
    "<img src='hardware.jpg'>"
   ]
  },
  {
   "cell_type": "markdown",
   "metadata": {
    "slideshow": {
     "slide_type": "slide"
    }
   },
   "source": [
    "## Several attempts to 'marry' graphs and transformers\n",
    "\n",
    "<img src='transf-for-graphs.jpg'>"
   ]
  },
  {
   "cell_type": "markdown",
   "metadata": {
    "slideshow": {
     "slide_type": "slide"
    }
   },
   "source": [
    "## Learning permutations in a differentiable way\n",
    "\n",
    "<img src='dag-permute.jpg'>"
   ]
  },
  {
   "cell_type": "markdown",
   "metadata": {
    "slideshow": {
     "slide_type": "slide"
    }
   },
   "source": [
    "## Several approaches to discrete diffusion (note drug application)\n",
    "<img src='discrete-denoise.jpg'> "
   ]
  },
  {
   "cell_type": "markdown",
   "metadata": {
    "slideshow": {
     "slide_type": "slide"
    }
   },
   "source": [
    "## Several papers on AI&Physics\n",
    "\n",
    "This papers learns the system from trajectories with learned invariants as well.\n",
    "\n",
    "<img src='finde.jpg'>"
   ]
  },
  {
   "cell_type": "markdown",
   "metadata": {
    "slideshow": {
     "slide_type": "slide"
    }
   },
   "source": [
    "## Hungry Hungry Hippos\n",
    "\n",
    "Potentially, the new milestone for sequence modelling, H3 model.\n",
    "\n",
    "<img src='h3.jpg'>"
   ]
  },
  {
   "cell_type": "markdown",
   "metadata": {
    "slideshow": {
     "slide_type": "slide"
    }
   },
   "source": [
    "## New: journal track\n",
    "More theoretical work has been presented.\n",
    "\n",
    "<img src='journal-track.jpg'>\n"
   ]
  },
  {
   "cell_type": "markdown",
   "metadata": {
    "slideshow": {
     "slide_type": "slide"
    }
   },
   "source": [
    "## Anchors to represent the point clouds\n",
    "\n",
    "Simple idea (could be improved by NLA in my opinion)\n",
    "\n",
    "<img src='anchors.jpg'>"
   ]
  },
  {
   "cell_type": "markdown",
   "metadata": {
    "slideshow": {
     "slide_type": "slide"
    }
   },
   "source": [
    "## Subset selection for active learning\n",
    "\n",
    "<img src='subset-selection.jpg'>"
   ]
  },
  {
   "cell_type": "markdown",
   "metadata": {
    "slideshow": {
     "slide_type": "slide"
    }
   },
   "source": [
    "## A lot (!) of prompt-based research, for example, Flip the instruction\n",
    "\n",
    "Idea: try to make artificial data by learning the instruction from the result.\n",
    "<img src='flip.jpg'>"
   ]
  },
  {
   "cell_type": "markdown",
   "metadata": {
    "slideshow": {
     "slide_type": "slide"
    }
   },
   "source": [
    "## I learned about new stuff (Ramanujan graph)\n",
    "\n",
    "This work has been related to lottery ticket hypothesis. Sparsity of learned representation has been the subject of several talks.\n",
    "<img src='ramanujan.jpg'>"
   ]
  },
  {
   "cell_type": "markdown",
   "metadata": {
    "slideshow": {
     "slide_type": "slide"
    }
   },
   "source": [
    "## DiffDock: SOTA for docking\n",
    "<img src='diffdock.jpg'>"
   ]
  },
  {
   "cell_type": "markdown",
   "metadata": {
    "slideshow": {
     "slide_type": "slide"
    }
   },
   "source": [
    "## Prompting for better math proofs\n",
    "\n",
    "<img src='prompting-1.jpg'>"
   ]
  },
  {
   "cell_type": "markdown",
   "metadata": {
    "slideshow": {
     "slide_type": "slide"
    }
   },
   "source": [
    "## Drug-design with transformers\n",
    "<img src='transf-drug.jpg'>"
   ]
  },
  {
   "cell_type": "markdown",
   "metadata": {
    "slideshow": {
     "slide_type": "slide"
    }
   },
   "source": [
    "## Multi-agent system, tries to learn a language (Hmmm)\n",
    "<img src='multi-agent.jpg'>"
   ]
  },
  {
   "cell_type": "markdown",
   "metadata": {
    "slideshow": {
     "slide_type": "slide"
    }
   },
   "source": [
    "## Trained transformers are sparse\n",
    "<img src='sparse-neuron.jpg'>"
   ]
  },
  {
   "cell_type": "markdown",
   "metadata": {
    "slideshow": {
     "slide_type": "slide"
    }
   },
   "source": [
    "## Differentiating through (some) combinatorial solvers\n",
    "<img src='combinatorial.jpg'>"
   ]
  },
  {
   "cell_type": "markdown",
   "metadata": {
    "slideshow": {
     "slide_type": "slide"
    }
   },
   "source": [
    "## Measuring 'rarity' of the samples\n",
    "<img src='rarity.jpg'>"
   ]
  },
  {
   "cell_type": "markdown",
   "metadata": {
    "slideshow": {
     "slide_type": "slide"
    }
   },
   "source": [
    "## Programming better (cool work!)\n",
    "<img src='programming-better.jpg'>"
   ]
  },
  {
   "cell_type": "markdown",
   "metadata": {
    "slideshow": {
     "slide_type": "slide"
    }
   },
   "source": [
    "## Termination problem in NLP\n",
    "<img src='terminate-nlp.jpg'>"
   ]
  },
  {
   "cell_type": "markdown",
   "metadata": {
    "slideshow": {
     "slide_type": "slide"
    }
   },
   "source": [
    "## Making deep graph network models more stable to depth\n",
    "<img src='stable-dgn.jpg'>"
   ]
  },
  {
   "cell_type": "markdown",
   "metadata": {
    "slideshow": {
     "slide_type": "slide"
    }
   },
   "source": [
    "## Hyperbolic RL \n",
    "<img src='hyper-rec.jpg'>"
   ]
  },
  {
   "cell_type": "code",
   "execution_count": null,
   "metadata": {},
   "outputs": [],
   "source": []
  }
 ],
 "metadata": {
  "anaconda-cloud": {},
  "celltoolbar": "Слайд-шоу",
  "kernelspec": {
   "display_name": "Python 3 (ipykernel)",
   "language": "python",
   "name": "python3"
  },
  "language_info": {
   "codemirror_mode": {
    "name": "ipython",
    "version": 3
   },
   "file_extension": ".py",
   "mimetype": "text/x-python",
   "name": "python",
   "nbconvert_exporter": "python",
   "pygments_lexer": "ipython3",
   "version": "3.11.0"
  },
  "nav_menu": {},
  "rise": {
   "scroll": true,
   "theme": "sky",
   "transition": "zoom"
  },
  "toc": {
   "navigate_menu": true,
   "number_sections": false,
   "sideBar": true,
   "threshold": 6,
   "toc_cell": false,
   "toc_section_display": "block",
   "toc_window_display": false
  }
 },
 "nbformat": 4,
 "nbformat_minor": 1
}
