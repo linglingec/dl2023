{
 "cells": [
  {
   "cell_type": "code",
   "execution_count": null,
   "metadata": {},
   "outputs": [],
   "source": [
    "%load_ext autoreload\n",
    "%autoreload 2\n",
    "%env CUDA_VISIBLE_DEVICES=0"
   ]
  },
  {
   "cell_type": "code",
   "execution_count": null,
   "metadata": {},
   "outputs": [],
   "source": [
    "import torch as t"
   ]
  },
  {
   "cell_type": "code",
   "execution_count": null,
   "metadata": {},
   "outputs": [],
   "source": [
    "class MNIST(t.utils.data.Dataset):\n",
    "    \"\"\"\n",
    "    Implement in-memory MNIST dataset\n",
    "    \"\"\""
   ]
  },
  {
   "cell_type": "code",
   "execution_count": null,
   "metadata": {},
   "outputs": [],
   "source": [
    "Z_DIM = ...  # define laten variable dimensionality\n",
    "BATCH_SIZE = ...  # define batch size"
   ]
  },
  {
   "cell_type": "code",
   "execution_count": null,
   "metadata": {},
   "outputs": [],
   "source": [
    "def conv_block(in_features: int, out_features: int, kernel: int = 3, stride: int = 1, padding: int = 1):\n",
    "    \"\"\"\n",
    "    Implement classical trio convolution-normalization-nonlinearity\n",
    "    \"\"\"\n",
    "\n",
    "\n",
    "# Decoder network should be able to upscale featuremaps along space dimensions. \n",
    "class Upscale(t.nn.Module):\n",
    "    \"\"\"\n",
    "    Upscaling layer\n",
    "    \"\"\"\n",
    "    pass\n",
    "\n",
    "\n",
    "def downscale_block(features: int, out_features: int):\n",
    "    \"\"\"\n",
    "    Small module consisting of several convolutions that can be used to downscale input tensor\n",
    "    \"\"\"\n",
    "    pass\n",
    "    \n",
    "def upscale_block(in_features: int, features: int):\n",
    "    \"\"\"\n",
    "    Small module consisting of several convolutions that can be used to upscale input tensor\n",
    "    \"\"\"\n",
    "    pass\n",
    "\n",
    "    \n",
    "    \n",
    "# Convolutional layers works  with [B, C, H, W] feature spaces \n",
    "# and Linear layers works with [..., C] features spaces. We need a layers to convert between this two \n",
    "# spaces when H = W = 1\n",
    "class Squeeze(t.nn.Module):\n",
    "    \"\"\"\n",
    "    Convert x from [B, C, H, W] to [B, C]\n",
    "    \"\"\"\n",
    "    pass\n",
    "    \n",
    "    \n",
    "class Unsqueeze(t.nn.Module):\n",
    "    \"\"\"\n",
    "    Convert x from [B, C] to [B, C, 1, 1]\n",
    "    \"\"\"\n",
    "    pass\n",
    "    \n",
    "    \n",
    "\n",
    "def get_encoder():\n",
    "    \"\"\"\n",
    "    Encoder defined specifically for images 32x32. You can implement general case if you want.\n",
    "    \"\"\"\n",
    "\n",
    "\n",
    "def get_decoder():\n",
    "    \"\"\"\n",
    "    Decoder defined specifically for images 32x32. You can implement general case if you want.\n",
    "    \"\"\""
   ]
  },
  {
   "cell_type": "code",
   "execution_count": null,
   "metadata": {},
   "outputs": [],
   "source": [
    "def reparameterize(mean, log_std):\n",
    "    \"\"\"\n",
    "    Reparameterization trick for normal distribution\n",
    "    \"\"\"\n",
    "    pass\n",
    "\n",
    "\n",
    "def kl(mean, log_std):\n",
    "    \"\"\"\n",
    "    KL-divergence between normal distribution and standard normal distribution\n",
    "    \"\"\"\n",
    "\n",
    "\n",
    "class VAE(t.nn.Module):\n",
    "    \"\"\"\n",
    "    Encoder-decoder model\n",
    "    \"\"\"\n",
    "        \n",
    "    def forward(self, imgs):\n",
    "        \"\"\"\n",
    "        forward calculation for VAE. Return:\n",
    "        1) ELBO loss to minimize\n",
    "        2) log p(x | z)\n",
    "        3) KL(p(z) || q(z | x))\n",
    "        \"\"\"\n",
    "        return {'loss': ..., 'log p(x|z)': ..., 'kl': ...}"
   ]
  },
  {
   "cell_type": "code",
   "execution_count": null,
   "metadata": {},
   "outputs": [],
   "source": [
    "model = ... # instantiate VAE model\n",
    "print('model crated')\n",
    "\n",
    "optimizer = ... # instantiate optimizer\n",
    "print('optimzer created')\n",
    "\n",
    "data = ... # load data\n",
    "print('model created')\n",
    "\n",
    "# Let's check that forward works\n",
    "model.eval()\n",
    "print(data[0].shape)\n",
    "model(data[0][None].cuda())\n",
    "model.train()\n",
    "\n",
    "# with wandb.init(project='autoencoder'):\n",
    "wandb.init(project='autoencoder')  # Initialize wandb\n",
    "\n",
    "\n",
    "# Training loop\n",
    "for step, imgs in enumerate(tqdm(...)):\n",
    "    # pass images through VAE\n",
    "    # make optimization step\n",
    "    # report training metrics with wandb\n",
    "\n",
    "    if step % 50 == 0:\n",
    "        model.eval()\n",
    "\n",
    "        with t.no_grad():\n",
    "            # Generate images with VAE by randomly samling latent variable\n",
    "\n",
    "        model.train()"
   ]
  },
  {
   "cell_type": "markdown",
   "metadata": {},
   "source": [
    "# Lets check interpolation capabilities of our network"
   ]
  }
 ],
 "metadata": {
  "kernelspec": {
   "display_name": "Python 3 (ipykernel)",
   "language": "python",
   "name": "python3"
  },
  "language_info": {
   "codemirror_mode": {
    "name": "ipython",
    "version": 3
   },
   "file_extension": ".py",
   "mimetype": "text/x-python",
   "name": "python",
   "nbconvert_exporter": "python",
   "pygments_lexer": "ipython3",
   "version": "3.10.8"
  }
 },
 "nbformat": 4,
 "nbformat_minor": 1
}
