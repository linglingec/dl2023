{
  "nbformat": 4,
  "nbformat_minor": 0,
  "metadata": {
    "colab": {
      "provenance": []
    },
    "kernelspec": {
      "name": "python3",
      "display_name": "Python 3"
    },
    "language_info": {
      "name": "python"
    },
    "accelerator": "GPU",
    "gpuClass": "standard"
  },
  "cells": [
    {
      "cell_type": "markdown",
      "source": [
        "# Semantic Segmentation\n",
        "\n",
        "![img](https://github.com/oseledets/dl2023/blob/main/seminars/seminar-4/doge_segmentation.png?raw=true)"
      ],
      "metadata": {
        "id": "EVDGqBfrv65o"
      }
    },
    {
      "cell_type": "markdown",
      "source": [
        "## Unet architecture\n",
        "\n",
        "![img](https://github.com/oseledets/dl2023/blob/main/seminars/seminar-4/unet.png?raw=true)"
      ],
      "metadata": {
        "id": "NKdW1cevvhxf"
      }
    },
    {
      "cell_type": "code",
      "source": [
        "import torch\n",
        "import torchvision\n",
        "from torchvision import transforms\n",
        "import numpy as np\n",
        "import matplotlib.pyplot as plt\n",
        "from tqdm import tqdm\n",
        "%matplotlib inline\n",
        "import gdown"
      ],
      "metadata": {
        "id": "_Qq06tfXvftM"
      },
      "execution_count": 18,
      "outputs": []
    },
    {
      "cell_type": "code",
      "source": [
        "gdown.download(url=\"https://drive.google.com/file/d/1kiR9pPP3gIqoyT9bWUnA0rgZuRTiUv7q/view?usp=share_link\", output=\"./unet_dict.pt\", quiet=False, fuzzy=True)"
      ],
      "metadata": {
        "colab": {
          "base_uri": "https://localhost:8080/",
          "height": 105
        },
        "id": "SiKSXyXG4PGS",
        "outputId": "0c5e5d3e-893f-4dea-f527-99a4e5f8876c"
      },
      "execution_count": 2,
      "outputs": [
        {
          "output_type": "stream",
          "name": "stderr",
          "text": [
            "Downloading...\n",
            "From: https://drive.google.com/uc?id=1kiR9pPP3gIqoyT9bWUnA0rgZuRTiUv7q\n",
            "To: /content/unet_dict.pt\n",
            "100%|██████████| 124M/124M [00:00<00:00, 238MB/s]\n"
          ]
        },
        {
          "output_type": "execute_result",
          "data": {
            "text/plain": [
              "'./unet_dict.pt'"
            ],
            "application/vnd.google.colaboratory.intrinsic+json": {
              "type": "string"
            }
          },
          "metadata": {},
          "execution_count": 2
        }
      ]
    },
    {
      "cell_type": "code",
      "source": [
        "class Encoder_Block(torch.nn.Module):\n",
        "  def __init__(self,inp_channels,out_channels):\n",
        "    super().__init__()\n",
        "    self.model = torch.nn.Sequential(\n",
        "        torch.nn.Conv2d(inp_channels,out_channels,kernel_size=3,padding=1),\n",
        "        torch.nn.BatchNorm2d(out_channels),\n",
        "        torch.nn.ReLU(),\n",
        "        torch.nn.Conv2d(out_channels,out_channels,kernel_size=3,padding=1),\n",
        "        torch.nn.BatchNorm2d(out_channels),\n",
        "        torch.nn.ReLU(),\n",
        "    )\n",
        "    self.pooling = torch.nn.MaxPool2d(2)\n",
        "  def forward(self,x):\n",
        "    int_out = self.model(x)\n",
        "    return self.pooling(int_out), int_out\n",
        "\n",
        "class Decoder_Block(torch.nn.Module):\n",
        "  def __init__(self,inp_channels,out_channels):\n",
        "    super().__init__()\n",
        "    self.upsample = torch.nn.ConvTranspose2d(inp_channels,out_channels,kernel_size=2,stride=2)\n",
        "    self.model = torch.nn.Sequential(\n",
        "        torch.nn.Conv2d(inp_channels,out_channels,kernel_size=3,padding=1),\n",
        "        torch.nn.BatchNorm2d(out_channels),\n",
        "        torch.nn.ReLU(),\n",
        "        torch.nn.Conv2d(out_channels,out_channels,kernel_size=3,padding=1),\n",
        "        torch.nn.BatchNorm2d(out_channels),\n",
        "        torch.nn.ReLU(),\n",
        "    )\n",
        "  def forward(self,x,enc_x):\n",
        "    x = self.upsample(x)\n",
        "    x = torch.cat([x,enc_x],dim=1)\n",
        "    return self.model(x)"
      ],
      "metadata": {
        "id": "yAOnVdD3wLZ4"
      },
      "execution_count": 5,
      "outputs": []
    },
    {
      "cell_type": "markdown",
      "source": [
        "# Let's check our implementation"
      ],
      "metadata": {
        "id": "OkSaNiMExvDp"
      }
    },
    {
      "cell_type": "code",
      "source": [
        "enc = Encoder_Block(64,128)\n",
        "dec = Decoder_Block(256,128)\n",
        "inp = torch.randn(1,64,64,64)\n",
        "x,enc_x = enc(inp)\n",
        "\n",
        "assert x.shape == (1,128,32,32), \"correct encoder implementation\"\n",
        "\n",
        "inp = torch.randn(1,256,32,32)\n",
        "x = dec(inp,enc_x)\n",
        "\n",
        "assert x.shape == (1,128,64,64), \"correct decoder implementation\""
      ],
      "metadata": {
        "id": "rezzfYzzzXaF"
      },
      "execution_count": 6,
      "outputs": []
    },
    {
      "cell_type": "code",
      "source": [
        "class Unet(torch.nn.Module):\n",
        "  def __init__(self,inc,outc,hidden_size=64):\n",
        "    super().__init__()\n",
        "    self.Encoder = torch.nn.ModuleList([\n",
        "        Encoder_Block(inc,hidden_size),\n",
        "        Encoder_Block(hidden_size,hidden_size*2),\n",
        "        Encoder_Block(hidden_size*2,hidden_size*4),\n",
        "        Encoder_Block(hidden_size*4,hidden_size*8),\n",
        "    ])\n",
        "    self.bottleneck = torch.nn.Sequential(\n",
        "        torch.nn.Conv2d(hidden_size*8,hidden_size*16,kernel_size=1),\n",
        "        torch.nn.BatchNorm2d(hidden_size*16),\n",
        "        torch.nn.ReLU(),\n",
        "        torch.nn.Conv2d(hidden_size*16,hidden_size*16,kernel_size=1),\n",
        "        torch.nn.BatchNorm2d(hidden_size*16),\n",
        "        torch.nn.ReLU()\n",
        "    )\n",
        "    self.Decoder = torch.nn.ModuleList([\n",
        "        Decoder_Block(hidden_size*16,hidden_size*8),\n",
        "        Decoder_Block(hidden_size*8,hidden_size*4),\n",
        "        Decoder_Block(hidden_size*4,hidden_size*2),\n",
        "        Decoder_Block(hidden_size*2,hidden_size*1),\n",
        "    ])\n",
        "    self.last_layer = torch.nn.Conv2d(hidden_size,outc,kernel_size=3,padding=\"same\")\n",
        "  def forward(self,x):\n",
        "    enc_xs = []\n",
        "    for module in self.Encoder:\n",
        "      x, enc_x= module(x)\n",
        "      enc_xs.append(enc_x)\n",
        "    \n",
        "    enc_xs = enc_xs[::-1]\n",
        "    x = self.bottleneck(x)\n",
        "\n",
        "    for i,module in enumerate(self.Decoder):\n",
        "      x = module(x,enc_xs[i])\n",
        "    return self.last_layer(x)"
      ],
      "metadata": {
        "id": "illbR93nzkOe"
      },
      "execution_count": 8,
      "outputs": []
    },
    {
      "cell_type": "markdown",
      "source": [
        "## Check that your implementation works correctly"
      ],
      "metadata": {
        "id": "1x95Ez440c8d"
      }
    },
    {
      "cell_type": "code",
      "source": [
        "unet = Unet(3,11)\n",
        "\n",
        "assert unet(torch.randn(1,3,128,128)).shape == (1,11,128,128), \"check your implementation\""
      ],
      "metadata": {
        "id": "XYCRXuub83tr"
      },
      "execution_count": 9,
      "outputs": []
    },
    {
      "cell_type": "markdown",
      "source": [
        "## Let's start working with data"
      ],
      "metadata": {
        "id": "l3RuOSEg0ifH"
      }
    },
    {
      "cell_type": "code",
      "source": [
        "transform = transforms.Compose([\n",
        "    transforms.Resize(128),\n",
        "    transforms.CenterCrop(128),\n",
        "    transforms.ToTensor(),\n",
        "    transforms.Normalize(mean=0.5,std=0.5)\n",
        "])\n",
        "def class_split(data,n=3):\n",
        "  data = np.array(data)\n",
        "  res = []\n",
        "  for i in range(1,1+n):\n",
        "    mask = np.zeros_like(data)\n",
        "    mask[data==i] = 1.\n",
        "    res.append(mask[None])\n",
        "  return torch.from_numpy(np.concatenate(res,axis=0)).to(torch.float)\n",
        "\n",
        "target_transform = transforms.Compose([\n",
        "    transforms.Resize(128),\n",
        "    transforms.CenterCrop(128),\n",
        "    class_split\n",
        "])\n",
        "dataset = torchvision.datasets.OxfordIIITPet(\"./data\",split=\"trainval\",target_types=\"segmentation\",download=True,transform=transform,target_transform=target_transform)"
      ],
      "metadata": {
        "colab": {
          "base_uri": "https://localhost:8080/"
        },
        "id": "x7_RhC4X_ZAD",
        "outputId": "b50b6e31-0306-4f5b-a070-5fd79eaa3154"
      },
      "execution_count": 10,
      "outputs": [
        {
          "output_type": "stream",
          "name": "stdout",
          "text": [
            "Downloading https://thor.robots.ox.ac.uk/datasets/pets/images.tar.gz to data/oxford-iiit-pet/images.tar.gz\n"
          ]
        },
        {
          "output_type": "stream",
          "name": "stderr",
          "text": [
            "100%|██████████| 791918971/791918971 [00:26<00:00, 30094727.25it/s]\n"
          ]
        },
        {
          "output_type": "stream",
          "name": "stdout",
          "text": [
            "Extracting data/oxford-iiit-pet/images.tar.gz to data/oxford-iiit-pet\n",
            "Downloading https://thor.robots.ox.ac.uk/datasets/pets/annotations.tar.gz to data/oxford-iiit-pet/annotations.tar.gz\n"
          ]
        },
        {
          "output_type": "stream",
          "name": "stderr",
          "text": [
            "100%|██████████| 19173078/19173078 [00:01<00:00, 15159384.99it/s]\n"
          ]
        },
        {
          "output_type": "stream",
          "name": "stdout",
          "text": [
            "Extracting data/oxford-iiit-pet/annotations.tar.gz to data/oxford-iiit-pet\n"
          ]
        }
      ]
    },
    {
      "cell_type": "code",
      "source": [
        "transforms.ToPILImage()(dataset[0][0]/2+0.5)"
      ],
      "metadata": {
        "colab": {
          "base_uri": "https://localhost:8080/",
          "height": 145
        },
        "id": "L5RYxLRIHj1G",
        "outputId": "f78a0119-8bf7-4761-8c26-00885c916ab7"
      },
      "execution_count": 11,
      "outputs": [
        {
          "output_type": "execute_result",
          "data": {
            "text/plain": [
              "<PIL.Image.Image image mode=RGB size=128x128 at 0x7F9C7F7379D0>"
            ],
            "image/png": "[encoded data removed]"
          },
          "metadata": {},
          "execution_count": 11
        }
      ]
    },
    {
      "cell_type": "code",
      "source": [
        "transforms.ToPILImage()(dataset[0][1]/2+0.5)"
      ],
      "metadata": {
        "colab": {
          "base_uri": "https://localhost:8080/",
          "height": 145
        },
        "id": "H5J_KkS6Hv5_",
        "outputId": "8a9f6beb-4183-470b-abd9-6cd97c76bef4"
      },
      "execution_count": 12,
      "outputs": [
        {
          "output_type": "execute_result",
          "data": {
            "text/plain": [
              "<PIL.Image.Image image mode=RGB size=128x128 at 0x7F9C7FBAE880>"
            ],
            "image/png": "[encoded data removed]"
          },
          "metadata": {},
          "execution_count": 12
        }
      ]
    },
    {
      "cell_type": "code",
      "source": [
        "device = torch.device(\"cuda\" if torch.cuda.is_available() else \"cpu\")\n",
        "unet = Unet(3,3).to(device)\n",
        "dataloader = torch.utils.data.DataLoader(dataset,batch_size=32,shuffle=True)\n",
        "optimizer = torch.optim.Adam(unet.parameters(),lr=0.001)"
      ],
      "metadata": {
        "id": "yDyR68t98_aj"
      },
      "execution_count": 13,
      "outputs": []
    },
    {
      "cell_type": "code",
      "source": [
        "def train(model,dataloader,optimizer,loss_func=torch.nn.CrossEntropyLoss(),epochs=5):\n",
        "  for i in range(epochs):\n",
        "    for x,y in tqdm(dataloader):\n",
        "      x = x.to(device)\n",
        "      y = y.to(device)\n",
        "\n",
        "      out = model(x)\n",
        "\n",
        "      loss = loss_func(out,y)\n",
        "\n",
        "      optimizer.zero_grad()\n",
        "      loss.backward()\n",
        "      optimizer.step()\n",
        "    print(i)"
      ],
      "metadata": {
        "id": "2mmw3APxShOL"
      },
      "execution_count": 19,
      "outputs": []
    },
    {
      "cell_type": "code",
      "source": [
        "train(unet,dataloader,optimizer,epochs=10)"
      ],
      "metadata": {
        "id": "mnEbAAnnUls9",
        "colab": {
          "base_uri": "https://localhost:8080/"
        },
        "outputId": "606320c6-f3a6-4a24-fe28-53fb76279c93"
      },
      "execution_count": 20,
      "outputs": [
        {
          "output_type": "stream",
          "name": "stderr",
          "text": [
            "100%|██████████| 115/115 [00:45<00:00,  2.50it/s]\n"
          ]
        },
        {
          "output_type": "stream",
          "name": "stdout",
          "text": [
            "0\n"
          ]
        },
        {
          "output_type": "stream",
          "name": "stderr",
          "text": [
            "100%|██████████| 115/115 [00:46<00:00,  2.47it/s]\n"
          ]
        },
        {
          "output_type": "stream",
          "name": "stdout",
          "text": [
            "1\n"
          ]
        },
        {
          "output_type": "stream",
          "name": "stderr",
          "text": [
            "100%|██████████| 115/115 [00:46<00:00,  2.50it/s]\n"
          ]
        },
        {
          "output_type": "stream",
          "name": "stdout",
          "text": [
            "2\n"
          ]
        },
        {
          "output_type": "stream",
          "name": "stderr",
          "text": [
            "100%|██████████| 115/115 [00:46<00:00,  2.47it/s]\n"
          ]
        },
        {
          "output_type": "stream",
          "name": "stdout",
          "text": [
            "3\n"
          ]
        },
        {
          "output_type": "stream",
          "name": "stderr",
          "text": [
            "100%|██████████| 115/115 [00:46<00:00,  2.47it/s]\n"
          ]
        },
        {
          "output_type": "stream",
          "name": "stdout",
          "text": [
            "4\n"
          ]
        },
        {
          "output_type": "stream",
          "name": "stderr",
          "text": [
            "100%|██████████| 115/115 [00:46<00:00,  2.48it/s]\n"
          ]
        },
        {
          "output_type": "stream",
          "name": "stdout",
          "text": [
            "5\n"
          ]
        },
        {
          "output_type": "stream",
          "name": "stderr",
          "text": [
            "100%|██████████| 115/115 [00:46<00:00,  2.48it/s]\n"
          ]
        },
        {
          "output_type": "stream",
          "name": "stdout",
          "text": [
            "6\n"
          ]
        },
        {
          "output_type": "stream",
          "name": "stderr",
          "text": [
            "100%|██████████| 115/115 [00:46<00:00,  2.48it/s]\n"
          ]
        },
        {
          "output_type": "stream",
          "name": "stdout",
          "text": [
            "7\n"
          ]
        },
        {
          "output_type": "stream",
          "name": "stderr",
          "text": [
            "100%|██████████| 115/115 [00:46<00:00,  2.47it/s]\n"
          ]
        },
        {
          "output_type": "stream",
          "name": "stdout",
          "text": [
            "8\n"
          ]
        },
        {
          "output_type": "stream",
          "name": "stderr",
          "text": [
            "100%|██████████| 115/115 [00:46<00:00,  2.50it/s]"
          ]
        },
        {
          "output_type": "stream",
          "name": "stdout",
          "text": [
            "9\n"
          ]
        },
        {
          "output_type": "stream",
          "name": "stderr",
          "text": [
            "\n"
          ]
        }
      ]
    },
    {
      "cell_type": "code",
      "source": [
        "iou = []\n",
        "for x,y in tqdm(dataloader):\n",
        "  y_hat = (torch.nn.Softmax(dim=1)(unet(x.to(device))) > 0.5).to(torch.float)\n",
        "\n",
        "  intersection = y_hat * y.to(device)\n",
        "  union = (y_hat + y.to(device)).clamp(0,1)\n",
        "  iou.append(intersection.sum()/union.sum())"
      ],
      "metadata": {
        "id": "ZN0vLep2vOTW",
        "colab": {
          "base_uri": "https://localhost:8080/"
        },
        "outputId": "444c8a5f-b1a1-497b-e208-fd86a8748673"
      },
      "execution_count": 24,
      "outputs": [
        {
          "output_type": "stream",
          "name": "stderr",
          "text": [
            "100%|██████████| 115/115 [00:48<00:00,  2.35it/s]\n"
          ]
        }
      ]
    },
    {
      "cell_type": "code",
      "source": [
        "iou = [item.item() for item in iou]"
      ],
      "metadata": {
        "id": "AZGFV1khNqK0"
      },
      "execution_count": 26,
      "outputs": []
    },
    {
      "cell_type": "code",
      "source": [
        "round(np.mean(iou)*100,1)"
      ],
      "metadata": {
        "colab": {
          "base_uri": "https://localhost:8080/"
        },
        "id": "krTQsKKh4bHB",
        "outputId": "b623e45f-7a60-4bbf-a0f7-825e34857f98"
      },
      "execution_count": 27,
      "outputs": [
        {
          "output_type": "execute_result",
          "data": {
            "text/plain": [
              "78.0"
            ]
          },
          "metadata": {},
          "execution_count": 27
        }
      ]
    },
    {
      "cell_type": "code",
      "source": [
        "!wget -nv \"https://fikiwiki.com/uploads/posts/2022-02/1644990866_45-fikiwiki-com-p-prikolnie-kartinki-pro-zhivotnikh-47.png\""
      ],
      "metadata": {
        "colab": {
          "base_uri": "https://localhost:8080/"
        },
        "id": "9_IF9Su3YD68",
        "outputId": "2797fbbb-895b-48d9-a320-9b309fa007c1"
      },
      "execution_count": 28,
      "outputs": [
        {
          "output_type": "stream",
          "name": "stdout",
          "text": [
            "2023-04-04 12:22:25 URL:https://fikiwiki.com/uploads/posts/2022-02/1644990866_45-fikiwiki-com-p-prikolnie-kartinki-pro-zhivotnikh-47.png [1205459/1205459] -> \"1644990866_45-fikiwiki-com-p-prikolnie-kartinki-pro-zhivotnikh-47.png\" [1]\n"
          ]
        }
      ]
    },
    {
      "cell_type": "code",
      "source": [
        "from PIL import Image\n",
        "img = Image.open(\"/content/1644990866_45-fikiwiki-com-p-prikolnie-kartinki-pro-zhivotnikh-47.png\")"
      ],
      "metadata": {
        "id": "T6Tuwoo2Z7Vl"
      },
      "execution_count": 29,
      "outputs": []
    },
    {
      "cell_type": "code",
      "source": [
        "img = transform(img)[:3][None].to(device)\n",
        "mask = unet(img)[0]"
      ],
      "metadata": {
        "id": "cBswwc3JaE2U"
      },
      "execution_count": 30,
      "outputs": []
    },
    {
      "cell_type": "code",
      "source": [
        "transforms.ToPILImage()((torch.nn.Softmax(dim=0)(mask)[0:1].detach().cpu() > 0.5).to(torch.float))"
      ],
      "metadata": {
        "colab": {
          "base_uri": "https://localhost:8080/",
          "height": 145
        },
        "id": "VN7972QUaUy6",
        "outputId": "c2bb8607-c0fd-491a-a489-cd996c2c1ebc"
      },
      "execution_count": 32,
      "outputs": [
        {
          "output_type": "execute_result",
          "data": {
            "text/plain": [
              "<PIL.Image.Image image mode=L size=128x128 at 0x7F9C7F1984F0>"
            ],
            "image/png": "[encoded data removed]"
          },
          "metadata": {},
          "execution_count": 32
        }
      ]
    },
    {
      "cell_type": "code",
      "source": [
        "transforms.ToPILImage()(img[0].detach().cpu()/2+0.5)"
      ],
      "metadata": {
        "colab": {
          "base_uri": "https://localhost:8080/",
          "height": 145
        },
        "id": "vWcDpK1aaxeC",
        "outputId": "c7b16dcd-4eb4-40b5-dc7d-9fbd468f5652"
      },
      "execution_count": 33,
      "outputs": [
        {
          "output_type": "execute_result",
          "data": {
            "text/plain": [
              "<PIL.Image.Image image mode=RGB size=128x128 at 0x7F9C7F198610>"
            ],
            "image/png": "[encoded data removed]"
          },
          "metadata": {},
          "execution_count": 33
        }
      ]
    },
    {
      "cell_type": "code",
      "source": [],
      "metadata": {
        "id": "yUcCFSfqOIfd"
      },
      "execution_count": null,
      "outputs": []
    }
  ]
}