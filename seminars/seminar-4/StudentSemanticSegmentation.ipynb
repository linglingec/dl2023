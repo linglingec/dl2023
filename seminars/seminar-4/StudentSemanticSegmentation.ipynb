{
  "cells": [
    {
      "cell_type": "markdown",
      "metadata": {
        "id": "EVDGqBfrv65o"
      },
      "source": [
        "# Semantic Segmentation\n",
        "\n",
        "![](https://github.com/oseledets/dl2023/blob/main/seminars/seminar-5/doge_segmentation.png?raw=1)"
      ]
    },
    {
      "cell_type": "markdown",
      "metadata": {
        "id": "NKdW1cevvhxf"
      },
      "source": [
        "## Unet architecture\n",
        "\n",
        "![](https://github.com/oseledets/dl2023/blob/main/seminars/seminar-5/unet.png?raw=1)"
      ]
    },
    {
      "cell_type": "code",
      "execution_count": 3,
      "metadata": {
        "id": "_Qq06tfXvftM"
      },
      "outputs": [],
      "source": [
        "import torch\n",
        "import torch.nn as nn\n",
        "import torchvision\n",
        "from torchvision import transforms\n",
        "import numpy as np\n",
        "import matplotlib.pyplot as plt\n",
        "%matplotlib inline\n",
        "import gdown"
      ]
    },
    {
      "cell_type": "code",
      "execution_count": 2,
      "metadata": {
        "id": "SiKSXyXG4PGS",
        "outputId": "0416c20e-ddd7-454c-aea2-2c3cded85e75",
        "colab": {
          "base_uri": "https://localhost:8080/",
          "height": 107
        }
      },
      "outputs": [
        {
          "output_type": "stream",
          "name": "stderr",
          "text": [
            "Downloading...\n",
            "From: https://drive.google.com/uc?id=1kiR9pPP3gIqoyT9bWUnA0rgZuRTiUv7q\n",
            "To: /content/unet_dict.pt\n",
            "100%|██████████| 124M/124M [00:01<00:00, 124MB/s]\n"
          ]
        },
        {
          "output_type": "execute_result",
          "data": {
            "text/plain": [
              "'./unet_dict.pt'"
            ],
            "application/vnd.google.colaboratory.intrinsic+json": {
              "type": "string"
            }
          },
          "metadata": {},
          "execution_count": 2
        }
      ],
      "source": [
        "gdown.download(url=\"https://drive.google.com/file/d/1kiR9pPP3gIqoyT9bWUnA0rgZuRTiUv7q/view?usp=share_link\", output=\"./unet_dict.pt\", quiet=False, fuzzy=True)"
      ]
    },
    {
      "cell_type": "code",
      "execution_count": 10,
      "metadata": {
        "id": "yAOnVdD3wLZ4"
      },
      "outputs": [],
      "source": [
        "class Encoder_Block(torch.nn.Module):\n",
        "  def __init__(self, inp_channels, out_channels):\n",
        "    super().__init__()\n",
        "    self.model = nn.Sequential(\n",
        "        nn.Conv2d(inp_channels, out_channels, kernel_size=3, padding=1),\n",
        "        nn.BatchNorm2d(out_channels),\n",
        "        nn.ReLU(),\n",
        "        nn.Conv2d(out_channels, out_channels, kernel_size=3, padding=1),\n",
        "        nn.BatchNorm2d(out_channels),\n",
        "        nn.ReLU()\n",
        "    )\n",
        "    self.pooling = nn.MaxPool2d(2)\n",
        "  def forward(self,x):\n",
        "    int_out = self.model(x)\n",
        "    return self.pooling(int_out), int_out\n",
        "\n",
        "class Decoder_Block(torch.nn.Module):\n",
        "  def __init__(self, inp_channels, out_channels):\n",
        "    super().__init__()\n",
        "    self.upsample = nn.ConvTranspose2d(inp_channels, out_channels, kernel_size=2, stride=2)\n",
        "    self.model = nn.Sequential(\n",
        "        nn.Conv2d(inp_channels, out_channels, kernel_size=3, padding=1),\n",
        "        nn.BatchNorm2d(out_channels),\n",
        "        nn.ReLU(),\n",
        "        nn.Conv2d(out_channels, out_channels, kernel_size=3, padding=1),\n",
        "        nn.BatchNorm2d(out_channels),\n",
        "        nn.ReLU()\n",
        "    )\n",
        "        \n",
        "  def forward(self, x, enc_x):\n",
        "    x = self.upsample(x)\n",
        "    x = torch.cat([x, enc_x], dim=1)\n",
        "    return self.model(x)"
      ]
    },
    {
      "cell_type": "markdown",
      "metadata": {
        "id": "OkSaNiMExvDp"
      },
      "source": [
        "# Let's check our implementation"
      ]
    },
    {
      "cell_type": "code",
      "execution_count": 11,
      "metadata": {
        "id": "rezzfYzzzXaF"
      },
      "outputs": [],
      "source": [
        "enc = Encoder_Block(64, 128)\n",
        "dec = Decoder_Block(256, 128)\n",
        "inp = torch.randn(1, 64, 64, 64)\n",
        "x, enc_x = enc(inp)\n",
        "\n",
        "assert x.shape == (1, 128, 32, 32), \"correct encoder implementation\"\n",
        "\n",
        "inp = torch.randn(1, 256, 32, 32)\n",
        "x = dec(inp, enc_x)\n",
        "\n",
        "assert x.shape == (1, 128, 64, 64), \"correct decoder implementation\""
      ]
    },
    {
      "cell_type": "code",
      "execution_count": 12,
      "metadata": {
        "id": "illbR93nzkOe"
      },
      "outputs": [],
      "source": [
        "class Unet(nn.Module):\n",
        "  def __init__(self, inc, outc, hidden_size=64):\n",
        "    super().__init__()\n",
        "    self.Encoder = nn.ModuleList([\n",
        "        Encoder_Block(inc, hidden_size),\n",
        "        Encoder_Block(hidden_size, hidden_size*2),\n",
        "        Encoder_Block(hidden_size*2, hidden_size*4),\n",
        "        Encoder_Block(hidden_size*4, hidden_size*8)\n",
        "    ])\n",
        "    self.bottleneck = nn.Sequential(\n",
        "        nn.Conv2d(hidden_size*8, hidden_size*16, kernel_size=1),\n",
        "        nn.BatchNorm2d(hidden_size*16),\n",
        "        nn.ReLU(),\n",
        "        nn.Conv2d(hidden_size*16, hidden_size*16, kernel_size=1),\n",
        "        nn.BatchNorm2d(hidden_size*16),\n",
        "        nn.ReLU()\n",
        "    )\n",
        "    self.Decoder = nn.ModuleList([\n",
        "        Decoder_Block(hidden_size*16, hidden_size*8),\n",
        "        Decoder_Block(hidden_size*8, hidden_size*4),\n",
        "        Decoder_Block(hidden_size*4, hidden_size*2),\n",
        "        Decoder_Block(hidden_size*2, hidden_size)\n",
        "    ])\n",
        "    self.last_layer = nn.Conv2d(hidden_size, outc, kernel_size=3, padding=\"same\")\n",
        "  def forward(self, x):\n",
        "    enc_xs = []\n",
        "    for module in self.Encoder:\n",
        "      x, enc_x = module(x)\n",
        "      enc_xs.append(enc_x)\n",
        "    \n",
        "    enc_xs = enc_xs[::-1]\n",
        "    x = self.bottleneck(x)\n",
        "\n",
        "    for i, module in enumerate(self.Decoder):\n",
        "      x = module(x, enc_xs[i])\n",
        "    return self.last_layer(x)"
      ]
    },
    {
      "cell_type": "markdown",
      "metadata": {
        "id": "1x95Ez440c8d"
      },
      "source": [
        "## Check that your implementation works correctly"
      ]
    },
    {
      "cell_type": "code",
      "execution_count": 13,
      "metadata": {
        "id": "XYCRXuub83tr"
      },
      "outputs": [],
      "source": [
        "unet = Unet(3,11)\n",
        "\n",
        "assert unet(torch.randn(1, 3, 128, 128)).shape == (1, 11, 128, 128), \"check your implementation\""
      ]
    },
    {
      "cell_type": "markdown",
      "metadata": {
        "id": "l3RuOSEg0ifH"
      },
      "source": [
        "## Let's start working with data"
      ]
    },
    {
      "cell_type": "code",
      "execution_count": 14,
      "metadata": {
        "colab": {
          "base_uri": "https://localhost:8080/"
        },
        "id": "x7_RhC4X_ZAD",
        "outputId": "279d35b6-77bc-4f0c-b92b-f2ef86d7baa1"
      },
      "outputs": [
        {
          "output_type": "stream",
          "name": "stdout",
          "text": [
            "Downloading https://thor.robots.ox.ac.uk/datasets/pets/images.tar.gz to data/oxford-iiit-pet/images.tar.gz\n"
          ]
        },
        {
          "output_type": "stream",
          "name": "stderr",
          "text": [
            "100%|██████████| 791918971/791918971 [00:54<00:00, 14581104.37it/s]\n"
          ]
        },
        {
          "output_type": "stream",
          "name": "stdout",
          "text": [
            "Extracting data/oxford-iiit-pet/images.tar.gz to data/oxford-iiit-pet\n",
            "Downloading https://thor.robots.ox.ac.uk/datasets/pets/annotations.tar.gz to data/oxford-iiit-pet/annotations.tar.gz\n"
          ]
        },
        {
          "output_type": "stream",
          "name": "stderr",
          "text": [
            "100%|██████████| 19173078/19173078 [00:02<00:00, 7267711.12it/s] \n"
          ]
        },
        {
          "output_type": "stream",
          "name": "stdout",
          "text": [
            "Extracting data/oxford-iiit-pet/annotations.tar.gz to data/oxford-iiit-pet\n"
          ]
        }
      ],
      "source": [
        "transform = transforms.Compose([\n",
        "    transforms.Resize(128),\n",
        "    transforms.CenterCrop(128),\n",
        "    transforms.ToTensor(),\n",
        "    transforms.Normalize(mean=0.5, std=0.5)\n",
        "])\n",
        "def class_split(data,n=3):\n",
        "  data = np.array(data)\n",
        "  res = []\n",
        "  for i in range(1,1+n):\n",
        "    mask = np.zeros_like(data)\n",
        "    mask[data==i] = 1.\n",
        "    res.append(mask[None])\n",
        "  return torch.from_numpy(np.concatenate(res,axis=0)).to(torch.float)\n",
        "\n",
        "target_transform = transforms.Compose([\n",
        "    transforms.Resize(128),\n",
        "    transforms.CenterCrop(128),\n",
        "    class_split\n",
        "])\n",
        "dataset = torchvision.datasets.OxfordIIITPet(\"./data\", split=\"trainval\", target_types=\"segmentation\", download=True, transform=transform, target_transform=target_transform)"
      ]
    },
    {
      "cell_type": "code",
      "execution_count": 15,
      "metadata": {
        "id": "yDyR68t98_aj"
      },
      "outputs": [],
      "source": [
        "device = torch.device(\"cuda\" if torch.cuda.is_available() else \"cpu\")\n",
        "unet = Unet(3, 3).to(device)\n",
        "dataloader = torch.utils.data.DataLoader(dataset, batch_size=32, shuffle=True)\n",
        "optimizer = torch.optim.Adam(unet.parameters(), lr=0.001)"
      ]
    },
    {
      "cell_type": "code",
      "source": [
        "from tqdm import tqdm"
      ],
      "metadata": {
        "id": "PRUHpanyJRgo"
      },
      "execution_count": 19,
      "outputs": []
    },
    {
      "cell_type": "code",
      "execution_count": 20,
      "metadata": {
        "id": "2mmw3APxShOL"
      },
      "outputs": [],
      "source": [
        "def train(model, dataloader, optimizer, loss_func=nn.CrossEntropyLoss(), epochs=5):\n",
        "  for i in range(epochs):\n",
        "    for x, y in tqdm(dataloader):\n",
        "      x = x.to(device)\n",
        "      y = y.to(device)\n",
        "      out = model(x)\n",
        "      loss = loss_func(out, y)\n",
        "      optimizer.zero_grad()\n",
        "      loss.backward()\n",
        "      optimizer.step()\n",
        "    print(i)"
      ]
    },
    {
      "cell_type": "code",
      "execution_count": 21,
      "metadata": {
        "id": "mnEbAAnnUls9",
        "outputId": "2bfcdc30-ba00-49b7-e817-4f35a9b8eb26",
        "colab": {
          "base_uri": "https://localhost:8080/"
        }
      },
      "outputs": [
        {
          "output_type": "stream",
          "name": "stderr",
          "text": [
            "100%|██████████| 115/115 [00:45<00:00,  2.52it/s]\n"
          ]
        },
        {
          "output_type": "stream",
          "name": "stdout",
          "text": [
            "0\n"
          ]
        },
        {
          "output_type": "stream",
          "name": "stderr",
          "text": [
            "100%|██████████| 115/115 [00:45<00:00,  2.55it/s]\n"
          ]
        },
        {
          "output_type": "stream",
          "name": "stdout",
          "text": [
            "1\n"
          ]
        },
        {
          "output_type": "stream",
          "name": "stderr",
          "text": [
            "100%|██████████| 115/115 [00:45<00:00,  2.50it/s]\n"
          ]
        },
        {
          "output_type": "stream",
          "name": "stdout",
          "text": [
            "2\n"
          ]
        },
        {
          "output_type": "stream",
          "name": "stderr",
          "text": [
            "100%|██████████| 115/115 [00:45<00:00,  2.53it/s]\n"
          ]
        },
        {
          "output_type": "stream",
          "name": "stdout",
          "text": [
            "3\n"
          ]
        },
        {
          "output_type": "stream",
          "name": "stderr",
          "text": [
            "100%|██████████| 115/115 [00:45<00:00,  2.52it/s]\n"
          ]
        },
        {
          "output_type": "stream",
          "name": "stdout",
          "text": [
            "4\n"
          ]
        },
        {
          "output_type": "stream",
          "name": "stderr",
          "text": [
            "100%|██████████| 115/115 [00:45<00:00,  2.52it/s]\n"
          ]
        },
        {
          "output_type": "stream",
          "name": "stdout",
          "text": [
            "5\n"
          ]
        },
        {
          "output_type": "stream",
          "name": "stderr",
          "text": [
            "100%|██████████| 115/115 [00:45<00:00,  2.53it/s]\n"
          ]
        },
        {
          "output_type": "stream",
          "name": "stdout",
          "text": [
            "6\n"
          ]
        },
        {
          "output_type": "stream",
          "name": "stderr",
          "text": [
            "100%|██████████| 115/115 [00:45<00:00,  2.52it/s]\n"
          ]
        },
        {
          "output_type": "stream",
          "name": "stdout",
          "text": [
            "7\n"
          ]
        },
        {
          "output_type": "stream",
          "name": "stderr",
          "text": [
            "100%|██████████| 115/115 [00:45<00:00,  2.52it/s]\n"
          ]
        },
        {
          "output_type": "stream",
          "name": "stdout",
          "text": [
            "8\n"
          ]
        },
        {
          "output_type": "stream",
          "name": "stderr",
          "text": [
            "100%|██████████| 115/115 [00:45<00:00,  2.51it/s]"
          ]
        },
        {
          "output_type": "stream",
          "name": "stdout",
          "text": [
            "9\n"
          ]
        },
        {
          "output_type": "stream",
          "name": "stderr",
          "text": [
            "\n"
          ]
        }
      ],
      "source": [
        "train(unet, dataloader, optimizer, epochs=10)"
      ]
    },
    {
      "cell_type": "code",
      "execution_count": 24,
      "metadata": {
        "id": "ZN0vLep2vOTW",
        "outputId": "93170b23-8801-47f5-eaf3-567bd2b4c23e",
        "colab": {
          "base_uri": "https://localhost:8080/"
        }
      },
      "outputs": [
        {
          "output_type": "stream",
          "name": "stderr",
          "text": [
            "100%|██████████| 115/115 [00:45<00:00,  2.55it/s]\n"
          ]
        }
      ],
      "source": [
        "iou = []\n",
        "for x, y in tqdm(dataloader):\n",
        "  y_hat = (nn.Softmax(dim=1)(unet(x.to(device))) > 0.5).to(torch.float)\n",
        "  intersection = y_hat * y.to(device)\n",
        "  union = (y_hat + y.to(device)).clamp(0, 1)\n",
        "  iou.append(intersection.sum() / union.sum())"
      ]
    },
    {
      "cell_type": "code",
      "source": [
        "iou = [item.item() for item in iou]"
      ],
      "metadata": {
        "id": "iBRr_084NrM5"
      },
      "execution_count": 29,
      "outputs": []
    },
    {
      "cell_type": "code",
      "execution_count": 30,
      "metadata": {
        "id": "krTQsKKh4bHB",
        "outputId": "1d49624b-3e00-42ec-9f12-eb5336ae69bc",
        "colab": {
          "base_uri": "https://localhost:8080/"
        }
      },
      "outputs": [
        {
          "output_type": "execute_result",
          "data": {
            "text/plain": [
              "78.4"
            ]
          },
          "metadata": {},
          "execution_count": 30
        }
      ],
      "source": [
        "round(np.mean(iou)*100, 1)"
      ]
    },
    {
      "cell_type": "code",
      "execution_count": 31,
      "metadata": {
        "colab": {
          "base_uri": "https://localhost:8080/"
        },
        "id": "9_IF9Su3YD68",
        "outputId": "6d07f7c6-e0b6-4c98-d09f-89972bcb5f88"
      },
      "outputs": [
        {
          "output_type": "stream",
          "name": "stdout",
          "text": [
            "2023-04-04 12:22:29 URL:https://fikiwiki.com/uploads/posts/2022-02/1644990866_45-fikiwiki-com-p-prikolnie-kartinki-pro-zhivotnikh-47.png [1205459/1205459] -> \"1644990866_45-fikiwiki-com-p-prikolnie-kartinki-pro-zhivotnikh-47.png\" [1]\n"
          ]
        }
      ],
      "source": [
        "!wget -nv \"https://fikiwiki.com/uploads/posts/2022-02/1644990866_45-fikiwiki-com-p-prikolnie-kartinki-pro-zhivotnikh-47.png\""
      ]
    },
    {
      "cell_type": "code",
      "execution_count": 32,
      "metadata": {
        "id": "T6Tuwoo2Z7Vl"
      },
      "outputs": [],
      "source": [
        "from PIL import Image\n",
        "img = Image.open(\"/content/1644990866_45-fikiwiki-com-p-prikolnie-kartinki-pro-zhivotnikh-47.png\")"
      ]
    },
    {
      "cell_type": "code",
      "execution_count": 33,
      "metadata": {
        "id": "cBswwc3JaE2U"
      },
      "outputs": [],
      "source": [
        "img = transform(img)[:3][None].to(device)\n",
        "mask = unet(img)[0]"
      ]
    },
    {
      "cell_type": "code",
      "execution_count": 35,
      "metadata": {
        "colab": {
          "base_uri": "https://localhost:8080/",
          "height": 145
        },
        "id": "VN7972QUaUy6",
        "outputId": "8446d6ca-f890-43ff-cfed-c24004406c48"
      },
      "outputs": [
        {
          "output_type": "execute_result",
          "data": {
            "text/plain": [
              "<PIL.Image.Image image mode=L size=128x128 at 0x7F97C1D556D0>"
            ],
            "image/png": "[encoded data removed]"
          },
          "metadata": {},
          "execution_count": 35
        }
      ],
      "source": [
        "transforms.ToPILImage()((torch.nn.Softmax(dim=0)(mask)[0:1].detach().cpu() > 0.5).to(torch.float))"
      ]
    },
    {
      "cell_type": "code",
      "execution_count": 36,
      "metadata": {
        "colab": {
          "base_uri": "https://localhost:8080/",
          "height": 145
        },
        "id": "vWcDpK1aaxeC",
        "outputId": "2b59bf49-6a22-4015-f62c-4cbbba2d0256"
      },
      "outputs": [
        {
          "output_type": "execute_result",
          "data": {
            "text/plain": [
              "<PIL.Image.Image image mode=RGB size=128x128 at 0x7F97CF422D30>"
            ],
            "image/png": "[encoded data removed]"
          },
          "metadata": {},
          "execution_count": 36
        }
      ],
      "source": [
        "transforms.ToPILImage()(img[0].detach().cpu()/2+0.5)"
      ]
    }
  ],
  "metadata": {
    "accelerator": "GPU",
    "colab": {
      "provenance": []
    },
    "gpuClass": "standard",
    "kernelspec": {
      "display_name": "Python 3",
      "name": "python3"
    },
    "language_info": {
      "name": "python"
    }
  },
  "nbformat": 4,
  "nbformat_minor": 0
}